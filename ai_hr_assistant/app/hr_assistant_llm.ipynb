{
 "cells": [
  {
   "cell_type": "markdown",
   "id": "5ff82c00",
   "metadata": {},
   "source": [
    "#### Google Palm LLM & API key setup"
   ]
  },
  {
   "cell_type": "code",
   "execution_count": 1,
   "id": "6de1952b",
   "metadata": {},
   "outputs": [
    {
     "name": "stderr",
     "output_type": "stream",
     "text": [
      "c:\\Users\\N\\Desktop\\Tunga.io\\capstone\\version2\\hrstreamline\\venv\\Lib\\site-packages\\tqdm\\auto.py:21: TqdmWarning: IProgress not found. Please update jupyter and ipywidgets. See https://ipywidgets.readthedocs.io/en/stable/user_install.html\n",
      "  from .autonotebook import tqdm as notebook_tqdm\n"
     ]
    }
   ],
   "source": [
    "from langchain_google_genai import ChatGoogleGenerativeAI\n",
    "from langchain_community.agent_toolkits import create_sql_agent\n",
    "from langchain_community.utilities import SQLDatabase\n",
    "from langchain.agents.agent_types import AgentType"
   ]
  },
  {
   "cell_type": "code",
   "execution_count": 2,
   "id": "b2ef904d",
   "metadata": {},
   "outputs": [],
   "source": [
    "# Your API key\n",
    "api_key = ''\n",
    "\n",
    "# Use the correct model name\n",
    "llm = ChatGoogleGenerativeAI(\n",
    "    model=\"gemini-2.0-flash\",\n",
    "    google_api_key=api_key,\n",
    "    temperature=0.2\n",
    ")"
   ]
  },
  {
   "cell_type": "markdown",
   "id": "e0c0d700",
   "metadata": {},
   "source": [
    "#### Connect with database and ask some basic questions"
   ]
  },
  {
   "cell_type": "code",
   "execution_count": 3,
   "id": "87f87881",
   "metadata": {},
   "outputs": [
    {
     "name": "stdout",
     "output_type": "stream",
     "text": [
      "Database schema:\n",
      "\n",
      "CREATE TABLE alembic_version (\n",
      "\tversion_num VARCHAR(32) NOT NULL, \n",
      "\tCONSTRAINT alembic_version_pkc PRIMARY KEY (version_num)\n",
      ")\n",
      "\n",
      "/*\n",
      "3 rows from alembic_version table:\n",
      "version_num\n",
      "61b9efb95ef4\n",
      "*/\n",
      "\n",
      "\n",
      "CREATE TABLE attendance (\n",
      "\tid INTEGER NOT NULL, \n",
      "\temployee_id INTEGER NOT NULL, \n",
      "\tdate DATE NOT NULL, \n",
      "\tclock_in_time DATETIME, \n",
      "\tclock_out_time DATETIME, \n",
      "\ttotal_hours NUMERIC(4, 2) NOT NULL, \n",
      "\tstatus VARCHAR(8) NOT NULL, \n",
      "\tPRIMARY KEY (id), \n",
      "\tFOREIGN KEY(employee_id) REFERENCES employee (id) ON DELETE CASCADE, \n",
      "\tCONSTRAINT unique_employee_date UNIQUE (employee_id, date)\n",
      ")\n",
      "\n",
      "/*\n",
      "3 rows from attendance table:\n",
      "id\temployee_id\tdate\tclock_in_time\tclock_out_time\ttotal_hours\tstatus\n",
      "1\t1\t2025-06-18\t2025-06-18 01:41:46\tNone\t0.00\tPresent\n",
      "2\t2\t2025-06-18\t2025-06-18 01:41:46\tNone\t0.00\tPresent\n",
      "3\t3\t2025-06-18\t2025-06-18 01:41:46\tNone\t0.00\tPresent\n",
      "*/\n",
      "\n",
      "\n",
      "CREATE TABLE auth (\n",
      "\tid INTEGER NOT NULL, \n",
      "\temail VARCHAR(50) NOT NULL, \n",
      "\tpassword_hash VARCHAR(255) NOT NULL, \n",
      "\tPRIMARY KEY (id), \n",
      "\tUNIQUE (email)\n",
      ")\n",
      "\n",
      "/*\n",
      "3 rows from auth table:\n",
      "id\temail\tpassword_hash\n",
      "1\tcristiano.ronaldo@cr7.com\t$2b$12$hMOM2limnIu7R8tAMJW1vOptPo8BU.upyX.OKzVjZIQCNgbGuoU0K\n",
      "2\tmessi.leo@goat.com\t$2b$12$xc29.MhSu49dH3qcZjG70.OzV3Q86Fdx.OPvhpciF1trETXkWYKlm\n",
      "3\tserena.williams@tennis.com\t$2b$12$9iJJEkf4HBXvzNU0tpK/oOh96R25.lmN.Nkpcg/ukSnB8aAzUy7ey\n",
      "*/\n",
      "\n",
      "\n",
      "CREATE TABLE employee (\n",
      "\tid INTEGER NOT NULL, \n",
      "\tauth_id INTEGER NOT NULL, \n",
      "\tfirst_name VARCHAR(80) NOT NULL, \n",
      "\tlast_name VARCHAR(80) NOT NULL, \n",
      "\tphone_no VARCHAR(20) NOT NULL, \n",
      "\tgender VARCHAR(10) NOT NULL, \n",
      "\taddress VARCHAR(200) NOT NULL, \n",
      "\tcountry VARCHAR(50) NOT NULL, \n",
      "\temp_department VARCHAR(50), \n",
      "\temp_team VARCHAR(100), \n",
      "\temp_position VARCHAR(100), \n",
      "\temp_rank VARCHAR(20), \n",
      "\temp_leave_balance INTEGER, \n",
      "\temp_start_date DATE, \n",
      "\temp_end_date DATE, \n",
      "\temp_status VARCHAR(20), \n",
      "\temp_work_status VARCHAR(20), \n",
      "\tPRIMARY KEY (id), \n",
      "\tFOREIGN KEY(auth_id) REFERENCES auth (id), \n",
      "\tUNIQUE (auth_id)\n",
      ")\n",
      "\n",
      "/*\n",
      "3 rows from employee table:\n",
      "id\tauth_id\tfirst_name\tlast_name\tphone_no\tgender\taddress\tcountry\temp_department\temp_team\temp_position\temp_rank\temp_leave_balance\temp_start_date\temp_end_date\temp_status\temp_work_status\n",
      "1\t1\tCristiano\tRonaldo\t+1234567890\tMale\t123 Main St, Springfield\tUSA\tEngineering\tBackend Team\tSoftware Engineer\tstaff\t10\t2025-02-14\tNone\tActive\tIn office\n",
      "2\t2\tLionel\tMessi\t+1987654321\tMale\t456 Elm St, Rosario\tArgentina\tEngineering\tBackend Team\tSenior Software Engineer\tmanager\t12\t2025-01-15\tNone\tActive\tIn office\n",
      "3\t3\tSerena\tWilliams\t+1123456789\tFemale\t789 Oak Ave, Palm Beach\tUSA\tHuman Resource\tHR Ops\tHR Generalist\tadmin\t12\t2025-01-15\tNone\tActive\tIn office\n",
      "*/\n",
      "\n",
      "\n",
      "CREATE TABLE leave_requests (\n",
      "\tid INTEGER NOT NULL, \n",
      "\temployee_id INTEGER NOT NULL, \n",
      "\tleave_type VARCHAR(9) NOT NULL, \n",
      "\tstart_date DATE NOT NULL, \n",
      "\tend_date DATE NOT NULL, \n",
      "\tdays_requested INTEGER NOT NULL, \n",
      "\treason TEXT, \n",
      "\tstatus VARCHAR(8) NOT NULL, \n",
      "\tapproved_by INTEGER, \n",
      "\tapproved_at DATETIME, \n",
      "\trejection_reason TEXT, \n",
      "\tPRIMARY KEY (id), \n",
      "\tFOREIGN KEY(approved_by) REFERENCES employee (id), \n",
      "\tFOREIGN KEY(employee_id) REFERENCES employee (id)\n",
      ")\n",
      "\n",
      "/*\n",
      "3 rows from leave_requests table:\n",
      "id\temployee_id\tleave_type\tstart_date\tend_date\tdays_requested\treason\tstatus\tapproved_by\tapproved_at\trejection_reason\n",
      "1\t1\tAnnual\t2025-07-01\t2025-07-05\t5\tVacation with family\tPending\tNone\tNone\tNone\n",
      "*/\n"
     ]
    }
   ],
   "source": [
    "# Relative path to the SQLite DB file\n",
    "db_path = \"../../instance/hr_streamline_app.db\"\n",
    "\n",
    "# Connect using LangChain\n",
    "db = SQLDatabase.from_uri(f\"sqlite:///{db_path}\", sample_rows_in_table_info=3)\n",
    "\n",
    "# View table info\n",
    "print(\"Database schema:\")\n",
    "print(db.table_info)\n"
   ]
  },
  {
   "cell_type": "code",
   "execution_count": 4,
   "id": "3f92f277",
   "metadata": {},
   "outputs": [],
   "source": [
    "# Create SQL agent (better than SQLDatabaseChain)\n",
    "agent_executor = create_sql_agent(\n",
    "    llm=llm,\n",
    "    db=db,\n",
    "    agent_type=AgentType.ZERO_SHOT_REACT_DESCRIPTION,\n",
    "    verbose=False ,  # Set to False for cleaner output\n",
    "    handle_parsing_errors=True\n",
    ")"
   ]
  },
  {
   "cell_type": "code",
   "execution_count": 5,
   "id": "11780af4",
   "metadata": {},
   "outputs": [
    {
     "name": "stdout",
     "output_type": "stream",
     "text": [
      "Answer: There are 2 male employees.\n"
     ]
    }
   ],
   "source": [
    "# Execute your query\n",
    "try:\n",
    "    result1 = agent_executor.invoke(\"How many male employees do we have?\")\n",
    "    print(\"Answer:\", result1['output'])\n",
    "except Exception as e:\n",
    "    print(f\"Error: {e}\")\n",
    "    # Try a more specific query\n",
    "    result1 = agent_executor.invoke(\"Count the total number of records in the employee table\")\n",
    "    print(\"Answer:\", result1['output'])"
   ]
  },
  {
   "cell_type": "code",
   "execution_count": 6,
   "id": "f53dd8a2",
   "metadata": {},
   "outputs": [
    {
     "data": {
      "text/plain": [
       "{'input': 'How many male employees do we have?',\n",
       " 'output': 'There are 2 male employees.'}"
      ]
     },
     "execution_count": 6,
     "metadata": {},
     "output_type": "execute_result"
    }
   ],
   "source": [
    "result1"
   ]
  },
  {
   "cell_type": "markdown",
   "id": "7bea74ed",
   "metadata": {},
   "source": [
    "Above is the correct answer 👍🏼"
   ]
  },
  {
   "cell_type": "code",
   "execution_count": 7,
   "id": "e9e11fda",
   "metadata": {},
   "outputs": [
    {
     "name": "stdout",
     "output_type": "stream",
     "text": [
      "Answer: Cristiano Ronaldo has an annual leave request starting on 2025-07-01.\n"
     ]
    }
   ],
   "source": [
    "try:\n",
    "    result2 = agent_executor.invoke(\"Which employee has an annual leave request starting soon?\")\n",
    "    print(\"Answer:\", result2['output'])\n",
    "except Exception as e:\n",
    "    print(f\"Error: {e}\")\n",
    "    # More specific fallback\n",
    "    result2 = agent_executor.invoke(\n",
    "        \"List the employee names and start dates for pending annual leave requests ordered by start date.\"\n",
    "    )\n",
    "    print(\"Answer:\", result2['output'])\n"
   ]
  },
  {
   "cell_type": "code",
   "execution_count": 8,
   "id": "a37c6be9",
   "metadata": {},
   "outputs": [
    {
     "data": {
      "text/plain": [
       "{'input': 'Which employee has an annual leave request starting soon?',\n",
       " 'output': 'Cristiano Ronaldo has an annual leave request starting on 2025-07-01.'}"
      ]
     },
     "execution_count": 8,
     "metadata": {},
     "output_type": "execute_result"
    }
   ],
   "source": [
    "result2"
   ]
  },
  {
   "cell_type": "code",
   "execution_count": 9,
   "id": "8ed295fe",
   "metadata": {},
   "outputs": [
    {
     "name": "stdout",
     "output_type": "stream",
     "text": [
      "Answer: There will be 1 person left in Cristiano's department, and their position is Senior Software Engineer.\n"
     ]
    }
   ],
   "source": [
    "try:\n",
    "    result3 = agent_executor.invoke(\"if cristiano goes on leave how many people will be left in his department and whats their position in the company?\")\n",
    "    print(\"Answer:\", result3['output'])\n",
    "except Exception as e:\n",
    "    print(f\"Error: {e}\")\n",
    "    # More specific fallback\n",
    "    result3 = agent_executor.invoke(\n",
    "        \"Get the department of the employee named Cristiano. Then count how many employees are in that department excluding Cristiano, and list their positions and ranks.\"\n",
    "    )\n",
    "    print(\"Answer:\", result3['output'])\n"
   ]
  },
  {
   "cell_type": "code",
   "execution_count": 10,
   "id": "cd64e9e9",
   "metadata": {},
   "outputs": [
    {
     "data": {
      "text/plain": [
       "{'input': 'if cristiano goes on leave how many people will be left in his department and whats their position in the company?',\n",
       " 'output': \"There will be 1 person left in Cristiano's department, and their position is Senior Software Engineer.\"}"
      ]
     },
     "execution_count": 10,
     "metadata": {},
     "output_type": "execute_result"
    }
   ],
   "source": [
    "result3"
   ]
  },
  {
   "cell_type": "code",
   "execution_count": 11,
   "id": "151dcdd5",
   "metadata": {},
   "outputs": [
    {
     "name": "stdout",
     "output_type": "stream",
     "text": [
      "Answer: The remaining leave balance for employees in the Engineering department after taking a week of leave is 3 and 5 days.\n",
      "Answer: The remaining leave balance for employees in the Engineering department after taking a week of leave is 3 and 5 days.\n"
     ]
    }
   ],
   "source": [
    "try:\n",
    "    result4 = agent_executor.invoke(\"if everyone in cristiano department goes on leave for a week how many days of leave will each person have left?\")\n",
    "    print(\"Answer:\", result4['output'])\n",
    "except Exception as e:\n",
    "    print(f\"Error: {e}\")\n",
    "    # More specific fallback with a simpler or safer prompt\n",
    "    result4 = agent_executor.invoke(\n",
    "    \"If every employee in the Cristiano department takes 5 days of leave, how many leave days will each person remaining?\"\n",
    "    )\n",
    "print(\"Answer:\", result4['output'])\n"
   ]
  },
  {
   "cell_type": "code",
   "execution_count": 12,
   "id": "d7ec3267",
   "metadata": {},
   "outputs": [
    {
     "data": {
      "text/plain": [
       "{'input': 'if everyone in cristiano department goes on leave for a week how many days of leave will each person have left?',\n",
       " 'output': 'The remaining leave balance for employees in the Engineering department after taking a week of leave is 3 and 5 days.'}"
      ]
     },
     "execution_count": 12,
     "metadata": {},
     "output_type": "execute_result"
    }
   ],
   "source": [
    "result4"
   ]
  },
  {
   "cell_type": "code",
   "execution_count": 14,
   "id": "b99bf56b",
   "metadata": {},
   "outputs": [
    {
     "name": "stdout",
     "output_type": "stream",
     "text": [
      "Answer: The most recent employee who requested leave with pending or approved status is currently active, their leave ends on 2025-07-05, they are staying for 5 days, and their position is Software Engineer.\n"
     ]
    }
   ],
   "source": [
    "try:\n",
    "    result5 = agent_executor.invoke(\"Show the most recent employee who requested leave with pending or approved status, are they currently active, when does their leave end, how long are they staying and their positions.\")\n",
    "    print(\"Answer:\", result5['output'])\n",
    "except Exception as e:\n",
    "    print(f\"Error: {e}\")\n",
    "    # Attempt structured fallback\n",
    "    try:\n",
    "        result5 = agent_executor.invoke(\n",
    "            \"List all employees who have requested leave with pending or approved status. Include whether they are currently active, their expected end dates, leave duration and their job positions.\"\n",
    "        )\n",
    "        print(\"Answer:\", result5['output'])\n",
    "    except Exception as inner_e:\n",
    "        print(\"Still failed:\", inner_e)\n",
    "\n"
   ]
  },
  {
   "cell_type": "code",
   "execution_count": 15,
   "id": "0f7c3579",
   "metadata": {},
   "outputs": [
    {
     "data": {
      "text/plain": [
       "{'input': 'Show the most recent employee who requested leave with pending or approved status, are they currently active, when does their leave end, how long are they staying and their positions.',\n",
       " 'output': 'The most recent employee who requested leave with pending or approved status is currently active, their leave ends on 2025-07-05, they are staying for 5 days, and their position is Software Engineer.'}"
      ]
     },
     "execution_count": 15,
     "metadata": {},
     "output_type": "execute_result"
    }
   ],
   "source": [
    "result5"
   ]
  },
  {
   "cell_type": "markdown",
   "id": "afe780d9",
   "metadata": {},
   "source": [
    "#### Few shot learning\n",
    "\n",
    "We will use few shot learning to fix issues we have seen so far"
   ]
  },
  {
   "cell_type": "code",
   "execution_count": 16,
   "id": "7294a3aa",
   "metadata": {},
   "outputs": [],
   "source": [
    "few_shots = [\n",
    "    {\n",
    "        'Question': \"How many male employees do we have?\",\n",
    "        'SQLQuery': \"SELECT COUNT(*) FROM employee WHERE gender = 'Male';\",\n",
    "        'SQLResult': \"Result of the SQL query\",\n",
    "        'Answer': result1['output']\n",
    "    },\n",
    "    {\n",
    "        'Question': \"Which employee has an annual leave request starting soon?\",\n",
    "        'SQLQuery': \"\"\"\n",
    "            SELECT \n",
    "                employee.first_name,      \n",
    "                employee.last_name,       \n",
    "                leave_requests.start_date \n",
    "            FROM \n",
    "                leave_requests\n",
    "            JOIN \n",
    "                employee ON leave_requests.employee_id = employee.id \n",
    "            WHERE \n",
    "                leave_requests.leave_type = 'Annual' \n",
    "                AND leave_requests.status = 'Pending'\n",
    "            ORDER BY \n",
    "                leave_requests.start_date ASC\n",
    "            LIMIT 1;\n",
    "        \"\"\",\n",
    "        'SQLResult': \"Result of the SQL query\",\n",
    "        'Answer': result2['output']\n",
    "    },\n",
    "    {\n",
    "        'Question': \"If Cristiano goes on leave, how many people will be left in his department and what are their positions?\",\n",
    "        'SQLQuery': \"\"\"\n",
    "            SELECT \n",
    "                emp_position,\n",
    "                COUNT(*) AS number_of_employees,\n",
    "                (SELECT COUNT(*) \n",
    "                 FROM employee \n",
    "                 WHERE emp_department = e.emp_department \n",
    "                   AND first_name <> 'Cristiano') AS total_employees_left\n",
    "            FROM \n",
    "                employee e\n",
    "            WHERE \n",
    "                e.emp_department = (SELECT emp_department FROM employee WHERE first_name = 'Cristiano' LIMIT 1)\n",
    "                AND e.first_name <> 'Cristiano'\n",
    "            GROUP BY \n",
    "                emp_position;\n",
    "        \"\"\",\n",
    "        'SQLResult': \"Result of the SQL query\",\n",
    "        'Answer': result3['output']\n",
    "    },\n",
    "    {\n",
    "        'Question': \"If everyone in Cristiano department goes on leave for a week, how many days of leave will they have left?\",\n",
    "        'SQLQuery': \"\"\"\n",
    "            SELECT \n",
    "                first_name,\n",
    "                last_name,\n",
    "                CASE \n",
    "                    WHEN emp_leave_balance - 7 < 0 THEN 0\n",
    "                    ELSE emp_leave_balance - 7\n",
    "                END AS leave_balance_after_week\n",
    "            FROM \n",
    "                employee\n",
    "            WHERE \n",
    "                emp_department = (SELECT emp_department FROM employee WHERE first_name = 'Cristiano' LIMIT 1);\n",
    "        \"\"\",\n",
    "        'SQLResult': \"Result of the SQL query\",\n",
    "        'Answer': result4['output']\n",
    "    },\n",
    "    {\n",
    "        'Question': (\n",
    "            \"Show the most recent employee who requested leave with pending or approved status, \"\n",
    "            \"are they currently active, when do they plan to return from leave, how long are they staying, and their positions.\"\n",
    "        ),\n",
    "        'SQLQuery': \"\"\"\n",
    "            SELECT \n",
    "                e.first_name, \n",
    "                e.last_name, \n",
    "                e.emp_status, \n",
    "                l.end_date, \n",
    "                l.days_requested, \n",
    "                e.emp_position \n",
    "            FROM \n",
    "                employee e \n",
    "            JOIN \n",
    "                leave_requests l ON e.id = l.employee_id \n",
    "            WHERE \n",
    "                l.status IN ('Pending', 'Approved') \n",
    "            LIMIT 10;\n",
    "        \"\"\",\n",
    "        'SQLResult': \"Result of the SQL query\",\n",
    "        'Answer': result5['output']\n",
    "    }\n",
    "]\n"
   ]
  },
  {
   "cell_type": "code",
   "execution_count": 13,
   "id": "759e5a3e",
   "metadata": {},
   "outputs": [
    {
     "data": {
      "text/plain": [
       "\"SELECT COUNT(*) FROM employee WHERE gender = 'Male';\""
      ]
     },
     "execution_count": 13,
     "metadata": {},
     "output_type": "execute_result"
    }
   ],
   "source": [
    "few_shots[0][\"SQLQuery\"]"
   ]
  },
  {
   "cell_type": "code",
   "execution_count": 17,
   "id": "a3d8f13b",
   "metadata": {},
   "outputs": [
    {
     "data": {
      "text/plain": [
       "'Cristiano Ronaldo is an active employee with the position of Software Engineer. He requested 5 days of leave and his leave request is either pending or approved. His expected return date is not specified.'"
      ]
     },
     "execution_count": 17,
     "metadata": {},
     "output_type": "execute_result"
    }
   ],
   "source": [
    "result5['output']"
   ]
  },
  {
   "cell_type": "markdown",
   "id": "30f7b3c9",
   "metadata": {},
   "source": [
    "### Creating Semantic Similarity Based example selector\n",
    "\n",
    "- create embedding on the few_shots\n",
    "- Store the embeddings in Chroma DB\n",
    "- Retrieve the the top most Semantically close example from the vector store"
   ]
  },
  {
   "cell_type": "code",
   "execution_count": 17,
   "id": "54306b8d",
   "metadata": {},
   "outputs": [
    {
     "name": "stderr",
     "output_type": "stream",
     "text": [
      "C:\\Users\\N\\AppData\\Local\\Temp\\ipykernel_10668\\3938620714.py:6: LangChainDeprecationWarning: The class `HuggingFaceEmbeddings` was deprecated in LangChain 0.2.2 and will be removed in 1.0. An updated version of the class exists in the :class:`~langchain-huggingface package and should be used instead. To use it run `pip install -U :class:`~langchain-huggingface` and import as `from :class:`~langchain_huggingface import HuggingFaceEmbeddings``.\n",
      "  embeddings = HuggingFaceEmbeddings(model_name='sentence-transformers/all-MiniLM-L6-v2')\n"
     ]
    }
   ],
   "source": [
    "from langchain.prompts import SemanticSimilarityExampleSelector\n",
    "from langchain.embeddings import HuggingFaceEmbeddings\n",
    "from langchain.vectorstores import Chroma\n",
    "\n",
    "\n",
    "embeddings = HuggingFaceEmbeddings(model_name='sentence-transformers/all-MiniLM-L6-v2')"
   ]
  },
  {
   "cell_type": "code",
   "execution_count": 18,
   "id": "073964bc",
   "metadata": {},
   "outputs": [],
   "source": [
    "to_vectorize = [\" \".join(example.values()) for example in few_shots]\n",
    "vectorstore = Chroma.from_texts(to_vectorize, embeddings, metadatas=few_shots)\n",
    "\n",
    "example_selector = SemanticSimilarityExampleSelector(\n",
    "    vectorstore=vectorstore,\n",
    "    k=2,\n",
    ")"
   ]
  },
  {
   "cell_type": "code",
   "execution_count": 19,
   "id": "e141583a",
   "metadata": {},
   "outputs": [
    {
     "data": {
      "text/plain": [
       "[\"How many male employees do we have? SELECT COUNT(*) FROM employee WHERE gender = 'Male'; Result of the SQL query There are 2 male employees.\",\n",
       " \"Which employee has an annual leave request starting soon? \\n            SELECT \\n                employee.first_name,      \\n                employee.last_name,       \\n                leave_requests.start_date \\n            FROM \\n                leave_requests\\n            JOIN \\n                employee ON leave_requests.employee_id = employee.id \\n            WHERE \\n                leave_requests.leave_type = 'Annual' \\n                AND leave_requests.status = 'Pending'\\n            ORDER BY \\n                leave_requests.start_date ASC\\n            LIMIT 1;\\n         Result of the SQL query Cristiano Ronaldo has an annual leave request starting on 2025-07-01.\",\n",
       " \"If Cristiano goes on leave, how many people will be left in his department and what are their positions? \\n            SELECT \\n                emp_position,\\n                COUNT(*) AS number_of_employees,\\n                (SELECT COUNT(*) \\n                 FROM employee \\n                 WHERE emp_department = e.emp_department \\n                   AND first_name <> 'Cristiano') AS total_employees_left\\n            FROM \\n                employee e\\n            WHERE \\n                e.emp_department = (SELECT emp_department FROM employee WHERE first_name = 'Cristiano' LIMIT 1)\\n                AND e.first_name <> 'Cristiano'\\n            GROUP BY \\n                emp_position;\\n         Result of the SQL query There will be 1 person left in Cristiano's department, and their position is Senior Software Engineer.\",\n",
       " \"If everyone in Cristiano department goes on leave for a week, how many days of leave will they have left? \\n            SELECT \\n                first_name,\\n                last_name,\\n                CASE \\n                    WHEN emp_leave_balance - 7 < 0 THEN 0\\n                    ELSE emp_leave_balance - 7\\n                END AS leave_balance_after_week\\n            FROM \\n                employee\\n            WHERE \\n                emp_department = (SELECT emp_department FROM employee WHERE first_name = 'Cristiano' LIMIT 1);\\n         Result of the SQL query The remaining leave balance for employees in the Engineering department after taking a week of leave is 3 and 5 days.\",\n",
       " \"Show the most recent employee who requested leave with pending or approved status, are they currently active, when do they plan to return from leave, how long are they staying, and their positions. \\n            SELECT \\n                e.first_name, \\n                e.last_name, \\n                e.emp_status, \\n                l.end_date, \\n                l.days_requested, \\n                e.emp_position \\n            FROM \\n                employee e \\n            JOIN \\n                leave_requests l ON e.id = l.employee_id \\n            WHERE \\n                l.status IN ('Pending', 'Approved') \\n            LIMIT 10;\\n         Result of the SQL query The most recent employee who requested leave with pending or approved status is currently active, their leave ends on 2025-07-05, they are staying for 5 days, and their position is Software Engineer.\"]"
      ]
     },
     "execution_count": 19,
     "metadata": {},
     "output_type": "execute_result"
    }
   ],
   "source": [
    "to_vectorize"
   ]
  },
  {
   "cell_type": "code",
   "execution_count": 20,
   "id": "0afe00b8",
   "metadata": {},
   "outputs": [],
   "source": [
    "sqlite_prompt = \"\"\"You are a SQLite expert. Given an input question, first create a syntactically correct SQLite query to run, then look at the results of the query and return the answer to the input question.\n",
    "Unless the user specifies in the question a specific number of examples to obtain, query for at most {top_k} results using the LIMIT clause as per SQLite. You can order the results to return the most informative data in the database.\n",
    "Never query for all columns from a table. You must query only the columns that are needed to answer the question. Wrap each column name in double quotes (\") to denote them as delimited identifiers.\n",
    "Pay attention to use only the column names you can see in the tables below. Be careful to not query for columns that do not exist. Also, pay attention to which column is in which table.\n",
    "Pay attention to use date('now') function to get the current date, if the question involves \"today\".\n",
    "\n",
    "Use the following format:\n",
    "\n",
    "Question: Question here\n",
    "SQLQuery: SQL Query to run\n",
    "SQLResult: Result of the SQLQuery\n",
    "Answer: Final answer here\n",
    "\"\"\"\n"
   ]
  },
  {
   "cell_type": "code",
   "execution_count": 22,
   "id": "dad150e9",
   "metadata": {},
   "outputs": [],
   "source": [
    "from langchain.prompts.prompt import PromptTemplate\n",
    "\n",
    "\n",
    "example_prompt = PromptTemplate(\n",
    "    input_variables=[\"Question\", \"SQLQuery\", \"SQLResult\", \"Answer\"],\n",
    "    template=\"\"\"\n",
    "Question: {Question}\n",
    "SQLQuery: {SQLQuery}\n",
    "SQLResult: {SQLResult}\n",
    "Answer: {Answer}\n",
    "\"\"\".strip()\n",
    ")"
   ]
  },
  {
   "cell_type": "code",
   "execution_count": 23,
   "id": "357ca60f",
   "metadata": {
    "scrolled": true
   },
   "outputs": [
    {
     "name": "stdout",
     "output_type": "stream",
     "text": [
      "Only use the following tables:\n",
      "{table_info}\n",
      "\n",
      "Question: {input}\n"
     ]
    }
   ],
   "source": [
    "from langchain.prompts import FewShotPromptTemplate\n",
    "from langchain.chains.sql_database.prompt import PROMPT_SUFFIX, _sqlite_prompt\n",
    "\n",
    "print(PROMPT_SUFFIX)"
   ]
  },
  {
   "cell_type": "markdown",
   "id": "20224496",
   "metadata": {},
   "source": [
    "### Setting up PromptTemplate using input variables"
   ]
  },
  {
   "cell_type": "code",
   "execution_count": null,
   "id": "74d3c284",
   "metadata": {},
   "outputs": [],
   "source": []
  },
  {
   "cell_type": "code",
   "execution_count": 158,
   "id": "5157663d",
   "metadata": {},
   "outputs": [
    {
     "name": "stdout",
     "output_type": "stream",
     "text": [
      "You are a SQLite expert. Given an input question, first create a syntactically correct SQLite query to run, then look at the results of the query and return the answer to the input question.\n",
      "Unless the user specifies in the question a specific number of examples to obtain, query for at most {top_k} results using the LIMIT clause as per SQLite. You can order the results to return the most informative data in the database.\n",
      "Never query for all columns from a table. You must query only the columns that are needed to answer the question. Wrap each column name in double quotes (\") to denote them as delimited identifiers.\n",
      "Pay attention to use only the column names you can see in the tables below. Be careful to not query for columns that do not exist. Also, pay attention to which column is in which table.\n",
      "Pay attention to use date('now') function to get the current date, if the question involves \"today\".\n",
      "\n",
      "Use the following format:\n",
      "\n",
      "Question: Question here\n",
      "SQLQuery: SQL Query to run\n",
      "SQLResult: Result of the SQLQuery\n",
      "Answer: Final answer here\n",
      "\n",
      "\n"
     ]
    }
   ],
   "source": [
    "print(_sqlite_prompt)"
   ]
  },
  {
   "cell_type": "code",
   "execution_count": 24,
   "id": "5736eb12",
   "metadata": {},
   "outputs": [],
   "source": [
    "few_shot_prompt = FewShotPromptTemplate(\n",
    "    example_selector=example_selector,\n",
    "    example_prompt=example_prompt,\n",
    "    prefix=sqlite_prompt,\n",
    "    suffix=PROMPT_SUFFIX,\n",
    "    input_variables=[\"input\", \"table_info\", \"top_k\"],\n",
    ")"
   ]
  },
  {
   "cell_type": "code",
   "execution_count": 26,
   "id": "c23d156c",
   "metadata": {},
   "outputs": [],
   "source": [
    "from langchain_experimental.sql import SQLDatabaseChain\n",
    "\n",
    "\n",
    "new_chain = SQLDatabaseChain.from_llm(\n",
    "    llm=llm,\n",
    "    db=db,\n",
    "    prompt=few_shot_prompt,\n",
    "    verbose=True,\n",
    ")\n"
   ]
  },
  {
   "cell_type": "code",
   "execution_count": 29,
   "id": "56219a5f",
   "metadata": {},
   "outputs": [
    {
     "name": "stdout",
     "output_type": "stream",
     "text": [
      "\n",
      "\n",
      "\u001b[1m> Entering new SQLDatabaseChain chain...\u001b[0m\n",
      "How many female employees do we have?\n",
      "SQLQuery:\u001b[32;1m\u001b[1;3m```sqlite\n",
      "SELECT COUNT(*) FROM employee WHERE gender = 'Female'\n",
      "```\u001b[0m"
     ]
    },
    {
     "ename": "OperationalError",
     "evalue": "(sqlite3.OperationalError) near \"```sqlite\nSELECT COUNT(*) FROM employee WHERE gender = 'Female'\n```\": syntax error\n[SQL: ```sqlite\nSELECT COUNT(*) FROM employee WHERE gender = 'Female'\n```]\n(Background on this error at: https://sqlalche.me/e/20/e3q8)",
     "output_type": "error",
     "traceback": [
      "\u001b[31m---------------------------------------------------------------------------\u001b[39m",
      "\u001b[31mOperationalError\u001b[39m                          Traceback (most recent call last)",
      "\u001b[36mFile \u001b[39m\u001b[32mc:\\Users\\N\\Desktop\\Tunga.io\\capstone\\version2\\hrstreamline\\venv\\Lib\\site-packages\\sqlalchemy\\engine\\base.py:1964\u001b[39m, in \u001b[36mConnection._exec_single_context\u001b[39m\u001b[34m(self, dialect, context, statement, parameters)\u001b[39m\n\u001b[32m   1963\u001b[39m     \u001b[38;5;28;01mif\u001b[39;00m \u001b[38;5;129;01mnot\u001b[39;00m evt_handled:\n\u001b[32m-> \u001b[39m\u001b[32m1964\u001b[39m         \u001b[38;5;28;43mself\u001b[39;49m\u001b[43m.\u001b[49m\u001b[43mdialect\u001b[49m\u001b[43m.\u001b[49m\u001b[43mdo_execute\u001b[49m\u001b[43m(\u001b[49m\n\u001b[32m   1965\u001b[39m \u001b[43m            \u001b[49m\u001b[43mcursor\u001b[49m\u001b[43m,\u001b[49m\u001b[43m \u001b[49m\u001b[43mstr_statement\u001b[49m\u001b[43m,\u001b[49m\u001b[43m \u001b[49m\u001b[43meffective_parameters\u001b[49m\u001b[43m,\u001b[49m\u001b[43m \u001b[49m\u001b[43mcontext\u001b[49m\n\u001b[32m   1966\u001b[39m \u001b[43m        \u001b[49m\u001b[43m)\u001b[49m\n\u001b[32m   1968\u001b[39m \u001b[38;5;28;01mif\u001b[39;00m \u001b[38;5;28mself\u001b[39m._has_events \u001b[38;5;129;01mor\u001b[39;00m \u001b[38;5;28mself\u001b[39m.engine._has_events:\n",
      "\u001b[36mFile \u001b[39m\u001b[32mc:\\Users\\N\\Desktop\\Tunga.io\\capstone\\version2\\hrstreamline\\venv\\Lib\\site-packages\\sqlalchemy\\engine\\default.py:942\u001b[39m, in \u001b[36mDefaultDialect.do_execute\u001b[39m\u001b[34m(self, cursor, statement, parameters, context)\u001b[39m\n\u001b[32m    941\u001b[39m \u001b[38;5;28;01mdef\u001b[39;00m\u001b[38;5;250m \u001b[39m\u001b[34mdo_execute\u001b[39m(\u001b[38;5;28mself\u001b[39m, cursor, statement, parameters, context=\u001b[38;5;28;01mNone\u001b[39;00m):\n\u001b[32m--> \u001b[39m\u001b[32m942\u001b[39m     \u001b[43mcursor\u001b[49m\u001b[43m.\u001b[49m\u001b[43mexecute\u001b[49m\u001b[43m(\u001b[49m\u001b[43mstatement\u001b[49m\u001b[43m,\u001b[49m\u001b[43m \u001b[49m\u001b[43mparameters\u001b[49m\u001b[43m)\u001b[49m\n",
      "\u001b[31mOperationalError\u001b[39m: near \"```sqlite\nSELECT COUNT(*) FROM employee WHERE gender = 'Female'\n```\": syntax error",
      "\nThe above exception was the direct cause of the following exception:\n",
      "\u001b[31mOperationalError\u001b[39m                          Traceback (most recent call last)",
      "\u001b[36mCell\u001b[39m\u001b[36m \u001b[39m\u001b[32mIn[29]\u001b[39m\u001b[32m, line 1\u001b[39m\n\u001b[32m----> \u001b[39m\u001b[32m1\u001b[39m result = \u001b[43mnew_chain\u001b[49m\u001b[43m.\u001b[49m\u001b[43minvoke\u001b[49m\u001b[43m(\u001b[49m\u001b[43m{\u001b[49m\u001b[33;43m\"\u001b[39;49m\u001b[33;43mquery\u001b[39;49m\u001b[33;43m\"\u001b[39;49m\u001b[43m:\u001b[49m\u001b[43m \u001b[49m\u001b[33;43m\"\u001b[39;49m\u001b[33;43mHow many female employees do we have?\u001b[39;49m\u001b[33;43m\"\u001b[39;49m\u001b[43m}\u001b[49m\u001b[43m)\u001b[49m\n\u001b[32m      2\u001b[39m \u001b[38;5;28mprint\u001b[39m(\u001b[33m\"\u001b[39m\u001b[33mAnswer:\u001b[39m\u001b[33m\"\u001b[39m, result)\n",
      "\u001b[36mFile \u001b[39m\u001b[32mc:\\Users\\N\\Desktop\\Tunga.io\\capstone\\version2\\hrstreamline\\venv\\Lib\\site-packages\\langchain\\chains\\base.py:167\u001b[39m, in \u001b[36mChain.invoke\u001b[39m\u001b[34m(self, input, config, **kwargs)\u001b[39m\n\u001b[32m    165\u001b[39m \u001b[38;5;28;01mexcept\u001b[39;00m \u001b[38;5;167;01mBaseException\u001b[39;00m \u001b[38;5;28;01mas\u001b[39;00m e:\n\u001b[32m    166\u001b[39m     run_manager.on_chain_error(e)\n\u001b[32m--> \u001b[39m\u001b[32m167\u001b[39m     \u001b[38;5;28;01mraise\u001b[39;00m e\n\u001b[32m    168\u001b[39m run_manager.on_chain_end(outputs)\n\u001b[32m    170\u001b[39m \u001b[38;5;28;01mif\u001b[39;00m include_run_info:\n",
      "\u001b[36mFile \u001b[39m\u001b[32mc:\\Users\\N\\Desktop\\Tunga.io\\capstone\\version2\\hrstreamline\\venv\\Lib\\site-packages\\langchain\\chains\\base.py:157\u001b[39m, in \u001b[36mChain.invoke\u001b[39m\u001b[34m(self, input, config, **kwargs)\u001b[39m\n\u001b[32m    154\u001b[39m \u001b[38;5;28;01mtry\u001b[39;00m:\n\u001b[32m    155\u001b[39m     \u001b[38;5;28mself\u001b[39m._validate_inputs(inputs)\n\u001b[32m    156\u001b[39m     outputs = (\n\u001b[32m--> \u001b[39m\u001b[32m157\u001b[39m         \u001b[38;5;28;43mself\u001b[39;49m\u001b[43m.\u001b[49m\u001b[43m_call\u001b[49m\u001b[43m(\u001b[49m\u001b[43minputs\u001b[49m\u001b[43m,\u001b[49m\u001b[43m \u001b[49m\u001b[43mrun_manager\u001b[49m\u001b[43m=\u001b[49m\u001b[43mrun_manager\u001b[49m\u001b[43m)\u001b[49m\n\u001b[32m    158\u001b[39m         \u001b[38;5;28;01mif\u001b[39;00m new_arg_supported\n\u001b[32m    159\u001b[39m         \u001b[38;5;28;01melse\u001b[39;00m \u001b[38;5;28mself\u001b[39m._call(inputs)\n\u001b[32m    160\u001b[39m     )\n\u001b[32m    162\u001b[39m     final_outputs: \u001b[38;5;28mdict\u001b[39m[\u001b[38;5;28mstr\u001b[39m, Any] = \u001b[38;5;28mself\u001b[39m.prep_outputs(\n\u001b[32m    163\u001b[39m         inputs, outputs, return_only_outputs\n\u001b[32m    164\u001b[39m     )\n\u001b[32m    165\u001b[39m \u001b[38;5;28;01mexcept\u001b[39;00m \u001b[38;5;167;01mBaseException\u001b[39;00m \u001b[38;5;28;01mas\u001b[39;00m e:\n",
      "\u001b[36mFile \u001b[39m\u001b[32mc:\\Users\\N\\Desktop\\Tunga.io\\capstone\\version2\\hrstreamline\\venv\\Lib\\site-packages\\langchain_experimental\\sql\\base.py:204\u001b[39m, in \u001b[36mSQLDatabaseChain._call\u001b[39m\u001b[34m(self, inputs, run_manager)\u001b[39m\n\u001b[32m    200\u001b[39m \u001b[38;5;28;01mexcept\u001b[39;00m \u001b[38;5;167;01mException\u001b[39;00m \u001b[38;5;28;01mas\u001b[39;00m exc:\n\u001b[32m    201\u001b[39m     \u001b[38;5;66;03m# Append intermediate steps to exception, to aid in logging and later\u001b[39;00m\n\u001b[32m    202\u001b[39m     \u001b[38;5;66;03m# improvement of few shot prompt seeds\u001b[39;00m\n\u001b[32m    203\u001b[39m     exc.intermediate_steps = intermediate_steps  \u001b[38;5;66;03m# type: ignore\u001b[39;00m\n\u001b[32m--> \u001b[39m\u001b[32m204\u001b[39m     \u001b[38;5;28;01mraise\u001b[39;00m exc\n",
      "\u001b[36mFile \u001b[39m\u001b[32mc:\\Users\\N\\Desktop\\Tunga.io\\capstone\\version2\\hrstreamline\\venv\\Lib\\site-packages\\langchain_experimental\\sql\\base.py:149\u001b[39m, in \u001b[36mSQLDatabaseChain._call\u001b[39m\u001b[34m(self, inputs, run_manager)\u001b[39m\n\u001b[32m    147\u001b[39m     \u001b[38;5;28;01mif\u001b[39;00m SQL_RESULT \u001b[38;5;129;01min\u001b[39;00m sql_cmd:\n\u001b[32m    148\u001b[39m         sql_cmd = sql_cmd.split(SQL_RESULT)[\u001b[32m0\u001b[39m].strip()\n\u001b[32m--> \u001b[39m\u001b[32m149\u001b[39m     result = \u001b[38;5;28;43mself\u001b[39;49m\u001b[43m.\u001b[49m\u001b[43mdatabase\u001b[49m\u001b[43m.\u001b[49m\u001b[43mrun\u001b[49m\u001b[43m(\u001b[49m\u001b[43msql_cmd\u001b[49m\u001b[43m)\u001b[49m\n\u001b[32m    150\u001b[39m     intermediate_steps.append(\u001b[38;5;28mstr\u001b[39m(result))  \u001b[38;5;66;03m# output: sql exec\u001b[39;00m\n\u001b[32m    151\u001b[39m \u001b[38;5;28;01melse\u001b[39;00m:\n",
      "\u001b[36mFile \u001b[39m\u001b[32mc:\\Users\\N\\Desktop\\Tunga.io\\capstone\\version2\\hrstreamline\\venv\\Lib\\site-packages\\langchain_community\\utilities\\sql_database.py:553\u001b[39m, in \u001b[36mSQLDatabase.run\u001b[39m\u001b[34m(self, command, fetch, include_columns, parameters, execution_options)\u001b[39m\n\u001b[32m    539\u001b[39m \u001b[38;5;28;01mdef\u001b[39;00m\u001b[38;5;250m \u001b[39m\u001b[34mrun\u001b[39m(\n\u001b[32m    540\u001b[39m     \u001b[38;5;28mself\u001b[39m,\n\u001b[32m    541\u001b[39m     command: Union[\u001b[38;5;28mstr\u001b[39m, Executable],\n\u001b[32m   (...)\u001b[39m\u001b[32m    546\u001b[39m     execution_options: Optional[Dict[\u001b[38;5;28mstr\u001b[39m, Any]] = \u001b[38;5;28;01mNone\u001b[39;00m,\n\u001b[32m    547\u001b[39m ) -> Union[\u001b[38;5;28mstr\u001b[39m, Sequence[Dict[\u001b[38;5;28mstr\u001b[39m, Any]], Result[Any]]:\n\u001b[32m    548\u001b[39m \u001b[38;5;250m    \u001b[39m\u001b[33;03m\"\"\"Execute a SQL command and return a string representing the results.\u001b[39;00m\n\u001b[32m    549\u001b[39m \n\u001b[32m    550\u001b[39m \u001b[33;03m    If the statement returns rows, a string of the results is returned.\u001b[39;00m\n\u001b[32m    551\u001b[39m \u001b[33;03m    If the statement returns no rows, an empty string is returned.\u001b[39;00m\n\u001b[32m    552\u001b[39m \u001b[33;03m    \"\"\"\u001b[39;00m\n\u001b[32m--> \u001b[39m\u001b[32m553\u001b[39m     result = \u001b[38;5;28;43mself\u001b[39;49m\u001b[43m.\u001b[49m\u001b[43m_execute\u001b[49m\u001b[43m(\u001b[49m\n\u001b[32m    554\u001b[39m \u001b[43m        \u001b[49m\u001b[43mcommand\u001b[49m\u001b[43m,\u001b[49m\u001b[43m \u001b[49m\u001b[43mfetch\u001b[49m\u001b[43m,\u001b[49m\u001b[43m \u001b[49m\u001b[43mparameters\u001b[49m\u001b[43m=\u001b[49m\u001b[43mparameters\u001b[49m\u001b[43m,\u001b[49m\u001b[43m \u001b[49m\u001b[43mexecution_options\u001b[49m\u001b[43m=\u001b[49m\u001b[43mexecution_options\u001b[49m\n\u001b[32m    555\u001b[39m \u001b[43m    \u001b[49m\u001b[43m)\u001b[49m\n\u001b[32m    557\u001b[39m     \u001b[38;5;28;01mif\u001b[39;00m fetch == \u001b[33m\"\u001b[39m\u001b[33mcursor\u001b[39m\u001b[33m\"\u001b[39m:\n\u001b[32m    558\u001b[39m         \u001b[38;5;28;01mreturn\u001b[39;00m result\n",
      "\u001b[36mFile \u001b[39m\u001b[32mc:\\Users\\N\\Desktop\\Tunga.io\\capstone\\version2\\hrstreamline\\venv\\Lib\\site-packages\\langchain_community\\utilities\\sql_database.py:518\u001b[39m, in \u001b[36mSQLDatabase._execute\u001b[39m\u001b[34m(self, command, fetch, parameters, execution_options)\u001b[39m\n\u001b[32m    516\u001b[39m \u001b[38;5;28;01melse\u001b[39;00m:\n\u001b[32m    517\u001b[39m     \u001b[38;5;28;01mraise\u001b[39;00m \u001b[38;5;167;01mTypeError\u001b[39;00m(\u001b[33mf\u001b[39m\u001b[33m\"\u001b[39m\u001b[33mQuery expression has unknown type: \u001b[39m\u001b[38;5;132;01m{\u001b[39;00m\u001b[38;5;28mtype\u001b[39m(command)\u001b[38;5;132;01m}\u001b[39;00m\u001b[33m\"\u001b[39m)\n\u001b[32m--> \u001b[39m\u001b[32m518\u001b[39m cursor = \u001b[43mconnection\u001b[49m\u001b[43m.\u001b[49m\u001b[43mexecute\u001b[49m\u001b[43m(\u001b[49m\n\u001b[32m    519\u001b[39m \u001b[43m    \u001b[49m\u001b[43mcommand\u001b[49m\u001b[43m,\u001b[49m\n\u001b[32m    520\u001b[39m \u001b[43m    \u001b[49m\u001b[43mparameters\u001b[49m\u001b[43m,\u001b[49m\n\u001b[32m    521\u001b[39m \u001b[43m    \u001b[49m\u001b[43mexecution_options\u001b[49m\u001b[43m=\u001b[49m\u001b[43mexecution_options\u001b[49m\u001b[43m,\u001b[49m\n\u001b[32m    522\u001b[39m \u001b[43m\u001b[49m\u001b[43m)\u001b[49m\n\u001b[32m    524\u001b[39m \u001b[38;5;28;01mif\u001b[39;00m cursor.returns_rows:\n\u001b[32m    525\u001b[39m     \u001b[38;5;28;01mif\u001b[39;00m fetch == \u001b[33m\"\u001b[39m\u001b[33mall\u001b[39m\u001b[33m\"\u001b[39m:\n",
      "\u001b[36mFile \u001b[39m\u001b[32mc:\\Users\\N\\Desktop\\Tunga.io\\capstone\\version2\\hrstreamline\\venv\\Lib\\site-packages\\sqlalchemy\\engine\\base.py:1416\u001b[39m, in \u001b[36mConnection.execute\u001b[39m\u001b[34m(self, statement, parameters, execution_options)\u001b[39m\n\u001b[32m   1414\u001b[39m     \u001b[38;5;28;01mraise\u001b[39;00m exc.ObjectNotExecutableError(statement) \u001b[38;5;28;01mfrom\u001b[39;00m\u001b[38;5;250m \u001b[39m\u001b[34;01merr\u001b[39;00m\n\u001b[32m   1415\u001b[39m \u001b[38;5;28;01melse\u001b[39;00m:\n\u001b[32m-> \u001b[39m\u001b[32m1416\u001b[39m     \u001b[38;5;28;01mreturn\u001b[39;00m \u001b[43mmeth\u001b[49m\u001b[43m(\u001b[49m\n\u001b[32m   1417\u001b[39m \u001b[43m        \u001b[49m\u001b[38;5;28;43mself\u001b[39;49m\u001b[43m,\u001b[49m\n\u001b[32m   1418\u001b[39m \u001b[43m        \u001b[49m\u001b[43mdistilled_parameters\u001b[49m\u001b[43m,\u001b[49m\n\u001b[32m   1419\u001b[39m \u001b[43m        \u001b[49m\u001b[43mexecution_options\u001b[49m\u001b[43m \u001b[49m\u001b[38;5;129;43;01mor\u001b[39;49;00m\u001b[43m \u001b[49m\u001b[43mNO_OPTIONS\u001b[49m\u001b[43m,\u001b[49m\n\u001b[32m   1420\u001b[39m \u001b[43m    \u001b[49m\u001b[43m)\u001b[49m\n",
      "\u001b[36mFile \u001b[39m\u001b[32mc:\\Users\\N\\Desktop\\Tunga.io\\capstone\\version2\\hrstreamline\\venv\\Lib\\site-packages\\sqlalchemy\\sql\\elements.py:523\u001b[39m, in \u001b[36mClauseElement._execute_on_connection\u001b[39m\u001b[34m(self, connection, distilled_params, execution_options)\u001b[39m\n\u001b[32m    521\u001b[39m     \u001b[38;5;28;01mif\u001b[39;00m TYPE_CHECKING:\n\u001b[32m    522\u001b[39m         \u001b[38;5;28;01massert\u001b[39;00m \u001b[38;5;28misinstance\u001b[39m(\u001b[38;5;28mself\u001b[39m, Executable)\n\u001b[32m--> \u001b[39m\u001b[32m523\u001b[39m     \u001b[38;5;28;01mreturn\u001b[39;00m \u001b[43mconnection\u001b[49m\u001b[43m.\u001b[49m\u001b[43m_execute_clauseelement\u001b[49m\u001b[43m(\u001b[49m\n\u001b[32m    524\u001b[39m \u001b[43m        \u001b[49m\u001b[38;5;28;43mself\u001b[39;49m\u001b[43m,\u001b[49m\u001b[43m \u001b[49m\u001b[43mdistilled_params\u001b[49m\u001b[43m,\u001b[49m\u001b[43m \u001b[49m\u001b[43mexecution_options\u001b[49m\n\u001b[32m    525\u001b[39m \u001b[43m    \u001b[49m\u001b[43m)\u001b[49m\n\u001b[32m    526\u001b[39m \u001b[38;5;28;01melse\u001b[39;00m:\n\u001b[32m    527\u001b[39m     \u001b[38;5;28;01mraise\u001b[39;00m exc.ObjectNotExecutableError(\u001b[38;5;28mself\u001b[39m)\n",
      "\u001b[36mFile \u001b[39m\u001b[32mc:\\Users\\N\\Desktop\\Tunga.io\\capstone\\version2\\hrstreamline\\venv\\Lib\\site-packages\\sqlalchemy\\engine\\base.py:1638\u001b[39m, in \u001b[36mConnection._execute_clauseelement\u001b[39m\u001b[34m(self, elem, distilled_parameters, execution_options)\u001b[39m\n\u001b[32m   1626\u001b[39m compiled_cache: Optional[CompiledCacheType] = execution_options.get(\n\u001b[32m   1627\u001b[39m     \u001b[33m\"\u001b[39m\u001b[33mcompiled_cache\u001b[39m\u001b[33m\"\u001b[39m, \u001b[38;5;28mself\u001b[39m.engine._compiled_cache\n\u001b[32m   1628\u001b[39m )\n\u001b[32m   1630\u001b[39m compiled_sql, extracted_params, cache_hit = elem._compile_w_cache(\n\u001b[32m   1631\u001b[39m     dialect=dialect,\n\u001b[32m   1632\u001b[39m     compiled_cache=compiled_cache,\n\u001b[32m   (...)\u001b[39m\u001b[32m   1636\u001b[39m     linting=\u001b[38;5;28mself\u001b[39m.dialect.compiler_linting | compiler.WARN_LINTING,\n\u001b[32m   1637\u001b[39m )\n\u001b[32m-> \u001b[39m\u001b[32m1638\u001b[39m ret = \u001b[38;5;28;43mself\u001b[39;49m\u001b[43m.\u001b[49m\u001b[43m_execute_context\u001b[49m\u001b[43m(\u001b[49m\n\u001b[32m   1639\u001b[39m \u001b[43m    \u001b[49m\u001b[43mdialect\u001b[49m\u001b[43m,\u001b[49m\n\u001b[32m   1640\u001b[39m \u001b[43m    \u001b[49m\u001b[43mdialect\u001b[49m\u001b[43m.\u001b[49m\u001b[43mexecution_ctx_cls\u001b[49m\u001b[43m.\u001b[49m\u001b[43m_init_compiled\u001b[49m\u001b[43m,\u001b[49m\n\u001b[32m   1641\u001b[39m \u001b[43m    \u001b[49m\u001b[43mcompiled_sql\u001b[49m\u001b[43m,\u001b[49m\n\u001b[32m   1642\u001b[39m \u001b[43m    \u001b[49m\u001b[43mdistilled_parameters\u001b[49m\u001b[43m,\u001b[49m\n\u001b[32m   1643\u001b[39m \u001b[43m    \u001b[49m\u001b[43mexecution_options\u001b[49m\u001b[43m,\u001b[49m\n\u001b[32m   1644\u001b[39m \u001b[43m    \u001b[49m\u001b[43mcompiled_sql\u001b[49m\u001b[43m,\u001b[49m\n\u001b[32m   1645\u001b[39m \u001b[43m    \u001b[49m\u001b[43mdistilled_parameters\u001b[49m\u001b[43m,\u001b[49m\n\u001b[32m   1646\u001b[39m \u001b[43m    \u001b[49m\u001b[43melem\u001b[49m\u001b[43m,\u001b[49m\n\u001b[32m   1647\u001b[39m \u001b[43m    \u001b[49m\u001b[43mextracted_params\u001b[49m\u001b[43m,\u001b[49m\n\u001b[32m   1648\u001b[39m \u001b[43m    \u001b[49m\u001b[43mcache_hit\u001b[49m\u001b[43m=\u001b[49m\u001b[43mcache_hit\u001b[49m\u001b[43m,\u001b[49m\n\u001b[32m   1649\u001b[39m \u001b[43m\u001b[49m\u001b[43m)\u001b[49m\n\u001b[32m   1650\u001b[39m \u001b[38;5;28;01mif\u001b[39;00m has_events:\n\u001b[32m   1651\u001b[39m     \u001b[38;5;28mself\u001b[39m.dispatch.after_execute(\n\u001b[32m   1652\u001b[39m         \u001b[38;5;28mself\u001b[39m,\n\u001b[32m   1653\u001b[39m         elem,\n\u001b[32m   (...)\u001b[39m\u001b[32m   1657\u001b[39m         ret,\n\u001b[32m   1658\u001b[39m     )\n",
      "\u001b[36mFile \u001b[39m\u001b[32mc:\\Users\\N\\Desktop\\Tunga.io\\capstone\\version2\\hrstreamline\\venv\\Lib\\site-packages\\sqlalchemy\\engine\\base.py:1843\u001b[39m, in \u001b[36mConnection._execute_context\u001b[39m\u001b[34m(self, dialect, constructor, statement, parameters, execution_options, *args, **kw)\u001b[39m\n\u001b[32m   1841\u001b[39m     \u001b[38;5;28;01mreturn\u001b[39;00m \u001b[38;5;28mself\u001b[39m._exec_insertmany_context(dialect, context)\n\u001b[32m   1842\u001b[39m \u001b[38;5;28;01melse\u001b[39;00m:\n\u001b[32m-> \u001b[39m\u001b[32m1843\u001b[39m     \u001b[38;5;28;01mreturn\u001b[39;00m \u001b[38;5;28;43mself\u001b[39;49m\u001b[43m.\u001b[49m\u001b[43m_exec_single_context\u001b[49m\u001b[43m(\u001b[49m\n\u001b[32m   1844\u001b[39m \u001b[43m        \u001b[49m\u001b[43mdialect\u001b[49m\u001b[43m,\u001b[49m\u001b[43m \u001b[49m\u001b[43mcontext\u001b[49m\u001b[43m,\u001b[49m\u001b[43m \u001b[49m\u001b[43mstatement\u001b[49m\u001b[43m,\u001b[49m\u001b[43m \u001b[49m\u001b[43mparameters\u001b[49m\n\u001b[32m   1845\u001b[39m \u001b[43m    \u001b[49m\u001b[43m)\u001b[49m\n",
      "\u001b[36mFile \u001b[39m\u001b[32mc:\\Users\\N\\Desktop\\Tunga.io\\capstone\\version2\\hrstreamline\\venv\\Lib\\site-packages\\sqlalchemy\\engine\\base.py:1983\u001b[39m, in \u001b[36mConnection._exec_single_context\u001b[39m\u001b[34m(self, dialect, context, statement, parameters)\u001b[39m\n\u001b[32m   1980\u001b[39m     result = context._setup_result_proxy()\n\u001b[32m   1982\u001b[39m \u001b[38;5;28;01mexcept\u001b[39;00m \u001b[38;5;167;01mBaseException\u001b[39;00m \u001b[38;5;28;01mas\u001b[39;00m e:\n\u001b[32m-> \u001b[39m\u001b[32m1983\u001b[39m     \u001b[38;5;28;43mself\u001b[39;49m\u001b[43m.\u001b[49m\u001b[43m_handle_dbapi_exception\u001b[49m\u001b[43m(\u001b[49m\n\u001b[32m   1984\u001b[39m \u001b[43m        \u001b[49m\u001b[43me\u001b[49m\u001b[43m,\u001b[49m\u001b[43m \u001b[49m\u001b[43mstr_statement\u001b[49m\u001b[43m,\u001b[49m\u001b[43m \u001b[49m\u001b[43meffective_parameters\u001b[49m\u001b[43m,\u001b[49m\u001b[43m \u001b[49m\u001b[43mcursor\u001b[49m\u001b[43m,\u001b[49m\u001b[43m \u001b[49m\u001b[43mcontext\u001b[49m\n\u001b[32m   1985\u001b[39m \u001b[43m    \u001b[49m\u001b[43m)\u001b[49m\n\u001b[32m   1987\u001b[39m \u001b[38;5;28;01mreturn\u001b[39;00m result\n",
      "\u001b[36mFile \u001b[39m\u001b[32mc:\\Users\\N\\Desktop\\Tunga.io\\capstone\\version2\\hrstreamline\\venv\\Lib\\site-packages\\sqlalchemy\\engine\\base.py:2352\u001b[39m, in \u001b[36mConnection._handle_dbapi_exception\u001b[39m\u001b[34m(self, e, statement, parameters, cursor, context, is_sub_exec)\u001b[39m\n\u001b[32m   2350\u001b[39m \u001b[38;5;28;01melif\u001b[39;00m should_wrap:\n\u001b[32m   2351\u001b[39m     \u001b[38;5;28;01massert\u001b[39;00m sqlalchemy_exception \u001b[38;5;129;01mis\u001b[39;00m \u001b[38;5;129;01mnot\u001b[39;00m \u001b[38;5;28;01mNone\u001b[39;00m\n\u001b[32m-> \u001b[39m\u001b[32m2352\u001b[39m     \u001b[38;5;28;01mraise\u001b[39;00m sqlalchemy_exception.with_traceback(exc_info[\u001b[32m2\u001b[39m]) \u001b[38;5;28;01mfrom\u001b[39;00m\u001b[38;5;250m \u001b[39m\u001b[34;01me\u001b[39;00m\n\u001b[32m   2353\u001b[39m \u001b[38;5;28;01melse\u001b[39;00m:\n\u001b[32m   2354\u001b[39m     \u001b[38;5;28;01massert\u001b[39;00m exc_info[\u001b[32m1\u001b[39m] \u001b[38;5;129;01mis\u001b[39;00m \u001b[38;5;129;01mnot\u001b[39;00m \u001b[38;5;28;01mNone\u001b[39;00m\n",
      "\u001b[36mFile \u001b[39m\u001b[32mc:\\Users\\N\\Desktop\\Tunga.io\\capstone\\version2\\hrstreamline\\venv\\Lib\\site-packages\\sqlalchemy\\engine\\base.py:1964\u001b[39m, in \u001b[36mConnection._exec_single_context\u001b[39m\u001b[34m(self, dialect, context, statement, parameters)\u001b[39m\n\u001b[32m   1962\u001b[39m                 \u001b[38;5;28;01mbreak\u001b[39;00m\n\u001b[32m   1963\u001b[39m     \u001b[38;5;28;01mif\u001b[39;00m \u001b[38;5;129;01mnot\u001b[39;00m evt_handled:\n\u001b[32m-> \u001b[39m\u001b[32m1964\u001b[39m         \u001b[38;5;28;43mself\u001b[39;49m\u001b[43m.\u001b[49m\u001b[43mdialect\u001b[49m\u001b[43m.\u001b[49m\u001b[43mdo_execute\u001b[49m\u001b[43m(\u001b[49m\n\u001b[32m   1965\u001b[39m \u001b[43m            \u001b[49m\u001b[43mcursor\u001b[49m\u001b[43m,\u001b[49m\u001b[43m \u001b[49m\u001b[43mstr_statement\u001b[49m\u001b[43m,\u001b[49m\u001b[43m \u001b[49m\u001b[43meffective_parameters\u001b[49m\u001b[43m,\u001b[49m\u001b[43m \u001b[49m\u001b[43mcontext\u001b[49m\n\u001b[32m   1966\u001b[39m \u001b[43m        \u001b[49m\u001b[43m)\u001b[49m\n\u001b[32m   1968\u001b[39m \u001b[38;5;28;01mif\u001b[39;00m \u001b[38;5;28mself\u001b[39m._has_events \u001b[38;5;129;01mor\u001b[39;00m \u001b[38;5;28mself\u001b[39m.engine._has_events:\n\u001b[32m   1969\u001b[39m     \u001b[38;5;28mself\u001b[39m.dispatch.after_cursor_execute(\n\u001b[32m   1970\u001b[39m         \u001b[38;5;28mself\u001b[39m,\n\u001b[32m   1971\u001b[39m         cursor,\n\u001b[32m   (...)\u001b[39m\u001b[32m   1975\u001b[39m         context.executemany,\n\u001b[32m   1976\u001b[39m     )\n",
      "\u001b[36mFile \u001b[39m\u001b[32mc:\\Users\\N\\Desktop\\Tunga.io\\capstone\\version2\\hrstreamline\\venv\\Lib\\site-packages\\sqlalchemy\\engine\\default.py:942\u001b[39m, in \u001b[36mDefaultDialect.do_execute\u001b[39m\u001b[34m(self, cursor, statement, parameters, context)\u001b[39m\n\u001b[32m    941\u001b[39m \u001b[38;5;28;01mdef\u001b[39;00m\u001b[38;5;250m \u001b[39m\u001b[34mdo_execute\u001b[39m(\u001b[38;5;28mself\u001b[39m, cursor, statement, parameters, context=\u001b[38;5;28;01mNone\u001b[39;00m):\n\u001b[32m--> \u001b[39m\u001b[32m942\u001b[39m     \u001b[43mcursor\u001b[49m\u001b[43m.\u001b[49m\u001b[43mexecute\u001b[49m\u001b[43m(\u001b[49m\u001b[43mstatement\u001b[49m\u001b[43m,\u001b[49m\u001b[43m \u001b[49m\u001b[43mparameters\u001b[49m\u001b[43m)\u001b[49m\n",
      "\u001b[31mOperationalError\u001b[39m: (sqlite3.OperationalError) near \"```sqlite\nSELECT COUNT(*) FROM employee WHERE gender = 'Female'\n```\": syntax error\n[SQL: ```sqlite\nSELECT COUNT(*) FROM employee WHERE gender = 'Female'\n```]\n(Background on this error at: https://sqlalche.me/e/20/e3q8)"
     ]
    }
   ],
   "source": [
    "result = new_chain.invoke({\"query\": \"How many female employees do we have?\"})\n",
    "print(\"Answer:\", result)\n"
   ]
  },
  {
   "cell_type": "code",
   "execution_count": 95,
   "id": "a757ee70",
   "metadata": {},
   "outputs": [
    {
     "name": "stdout",
     "output_type": "stream",
     "text": [
      "['query']\n"
     ]
    }
   ],
   "source": [
    "print(new_chain.input_keys)\n"
   ]
  },
  {
   "cell_type": "markdown",
   "id": "1127786d",
   "metadata": {},
   "source": [
    "Now this is working ok. Previously for this same question it was giving wrong answer because it did not use SUM clause around stock_quantity column"
   ]
  },
  {
   "cell_type": "code",
   "execution_count": null,
   "id": "30a05344",
   "metadata": {
    "scrolled": true
   },
   "outputs": [],
   "source": [
    "new_chain(\"How much is the price of the inventory for all small size t-shirts?\")"
   ]
  },
  {
   "cell_type": "code",
   "execution_count": null,
   "id": "d38d4cc9",
   "metadata": {},
   "outputs": [],
   "source": [
    "new_chain(\"How much is the price of all white color levi t shirts?\")"
   ]
  },
  {
   "cell_type": "code",
   "execution_count": null,
   "id": "510f8e47",
   "metadata": {
    "scrolled": false
   },
   "outputs": [],
   "source": [
    "new_chain(\"If we have to sell all the Nike’s T-shirts today with discounts applied. How much revenue  our store will generate (post discounts)?\")"
   ]
  },
  {
   "cell_type": "code",
   "execution_count": null,
   "id": "3188a887",
   "metadata": {
    "scrolled": false
   },
   "outputs": [],
   "source": [
    "new_chain(\"If we have to sell all the Van Heuson T-shirts today with discounts applied. How much revenue  our store will generate (post discounts)?\")"
   ]
  },
  {
   "cell_type": "code",
   "execution_count": null,
   "id": "9b10fd4d",
   "metadata": {},
   "outputs": [],
   "source": [
    "new_chain.run('How much revenue  our store will generate by selling all Van Heuson TShirts without discount?')"
   ]
  }
 ],
 "metadata": {
  "kernelspec": {
   "display_name": "venv",
   "language": "python",
   "name": "python3"
  },
  "language_info": {
   "codemirror_mode": {
    "name": "ipython",
    "version": 3
   },
   "file_extension": ".py",
   "mimetype": "text/x-python",
   "name": "python",
   "nbconvert_exporter": "python",
   "pygments_lexer": "ipython3",
   "version": "3.13.3"
  }
 },
 "nbformat": 4,
 "nbformat_minor": 5
}
